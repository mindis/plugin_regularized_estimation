{
 "cells": [
  {
   "cell_type": "code",
   "execution_count": 1,
   "metadata": {
    "collapsed": true
   },
   "outputs": [],
   "source": [
    "# Jupyter magic\n",
    "%matplotlib inline\n",
    "%load_ext autoreload\n",
    "%autoreload 2"
   ]
  },
  {
   "cell_type": "code",
   "execution_count": 91,
   "metadata": {},
   "outputs": [
    {
     "data": {
      "image/png": "[encoded data removed]",
      "text/plain": [
       "<matplotlib.figure.Figure at 0x11ccf64a8>"
      ]
     },
     "metadata": {},
     "output_type": "display_data"
    },
    {
     "data": {
      "image/png": "[encoded data removed]",
      "text/plain": [
       "<matplotlib.figure.Figure at 0x11ceab390>"
      ]
     },
     "metadata": {},
     "output_type": "display_data"
    }
   ],
   "source": [
    "import numpy as np\n",
    "from sklearn.linear_model import Lasso, MultiTaskLasso, MultiTaskLassoCV, LinearRegression\n",
    "import matplotlib.pyplot as plt\n",
    "from linear_te import gen_data, dml_fit, dml_crossfit\n",
    "from scipy.special import expit\n",
    "\n",
    "def main():\n",
    "    n_samples = 10000 # samples used for estimation\n",
    "    dim_x = 1 # dimension of controls x\n",
    "    dim_z = 1 # dimension of variables used for heterogeneity (subset of x)\n",
    "    kappa_z = 1 # support size of control function\n",
    "    kappa_theta = 1 # support size of target parameter\n",
    "    sigma_epsilon = 1 # variance of error in primary moment equation\n",
    "    sigma_eta = .2 # variance of error in primary moment equation\n",
    "    sigma_x = 3\n",
    "    lambda_coef = 1 # coeficient in front of the asymptotic rate for regularization lambda\n",
    "\n",
    "    l2_direct = []\n",
    "    l2_ortho = []\n",
    "    l2_cross_ortho = []\n",
    "    l1_direct = []\n",
    "    l1_ortho = []\n",
    "    l1_cross_ortho = []\n",
    "    direct_theta = []\n",
    "    omit_z = []\n",
    "    weighted = []\n",
    "    for _ in range(1000):\n",
    "        # Generate data\n",
    "        x = np.random.uniform(-sigma_x, sigma_x, size=(n_samples, dim_x))\n",
    "        z = np.random.uniform(-sigma_x, sigma_x, size=(n_samples, dim_z))\n",
    "        theta = np.random.uniform(2, 2, size=(kappa_theta, 1))\n",
    "        alpha_z = np.random.uniform(1, 1, size=(kappa_z, 1))\n",
    "        beta_z = np.random.uniform(1, 1, size=(kappa_theta, 1))\n",
    "        gamma_z = np.random.uniform(1, 1, size=(kappa_z, 1))\n",
    "        y = np.dot(x, theta) + np.dot(z, alpha_z) + np.random.normal(0, sigma_epsilon, size=(n_samples, 1))\n",
    "        y = y.ravel()\n",
    "        index_d = sigma_eta * (np.dot(x, beta_z) + np.dot(z, gamma_z))\n",
    "        p_d = expit(index_d).ravel()\n",
    "        d = np.random.binomial(1, p_d)\n",
    "        dy = d*y\n",
    "        \n",
    "        \n",
    "        comp_x = np.concatenate((x, z), axis=1)\n",
    "        model_y = LinearRegression(fit_intercept=True)\n",
    "        model_y.fit(comp_x[d==1], dy[d==1])\n",
    "        direct_theta.append(model_y.coef_[0])\n",
    "        \n",
    "        model_final = LinearRegression(fit_intercept=True)\n",
    "        model_final.fit(x, dy)\n",
    "        omit_z.append(model_final.coef_[0])\n",
    "        \n",
    "        model_final.fit(x, dy, sample_weight=d / p_d)\n",
    "        model_lasso = LinearRegression(fit_intercept=True)\n",
    "        sample_weight=d / p_d\n",
    "        model_lasso.fit(np.sqrt(sample_weight.reshape(-1, 1)) * x, np.sqrt(sample_weight) * dy)\n",
    "        weighted.append(model_lasso.coef_[0])\n",
    "        \n",
    "    plt.figure(figsize=(12,3))\n",
    "    plt.subplot(1, 3, 1)\n",
    "    plt.hist(np.array(direct_theta))\n",
    "    plt.title(\"$\\mu$: {:.2f}, $\\sigma$: {:.2f}\".format(np.mean(direct_theta), np.std(direct_theta)))\n",
    "    plt.subplot(1, 3, 2)\n",
    "    plt.hist(np.array(omit_z))\n",
    "    plt.title(\"$\\mu$: {:.2f}, $\\sigma$: {:.2f}\".format(np.mean(omit_z), np.std(omit_z)))\n",
    "    plt.subplot(1, 3, 3)\n",
    "    plt.hist(np.array(weighted))\n",
    "    plt.title(\"$\\mu$: {:.2f}, $\\sigma$: {:.2f}\".format(np.mean(weighted), np.std(weighted)))\n",
    "    plt.show()\n",
    "    \n",
    "    plt.figure(figsize=(12,3))\n",
    "    plt.subplot(1, 3, 1)\n",
    "    plt.hist(p_d)\n",
    "    plt.subplot(1, 3, 2)\n",
    "    plt.hist(index_d)\n",
    "    plt.subplot(1, 3, 3)\n",
    "    plt.hist(d)\n",
    "    plt.show()\n",
    "\n",
    "    return\n",
    "    \n",
    "main()"
   ]
  },
  {
   "cell_type": "code",
   "execution_count": null,
   "metadata": {
    "collapsed": true
   },
   "outputs": [],
   "source": []
  }
 ],
 "metadata": {
  "kernelspec": {
   "display_name": "Python 3",
   "language": "python",
   "name": "python3"
  },
  "language_info": {
   "codemirror_mode": {
    "name": "ipython",
    "version": 3
   },
   "file_extension": ".py",
   "mimetype": "text/x-python",
   "name": "python",
   "nbconvert_exporter": "python",
   "pygments_lexer": "ipython3",
   "version": "3.6.1"
  }
 },
 "nbformat": 4,
 "nbformat_minor": 2
}
