{
 "cells": [
  {
   "cell_type": "code",
   "execution_count": 1,
   "metadata": {
    "collapsed": false
   },
   "outputs": [],
   "source": [
    "# Jupyter magic\n",
    "%matplotlib inline\n",
    "%load_ext autoreload\n",
    "%autoreload 2"
   ]
  },
  {
   "cell_type": "code",
   "execution_count": 24,
   "metadata": {
    "collapsed": false,
    "scrolled": false
   },
   "outputs": [
    {
     "name": "stderr",
     "output_type": "stream",
     "text": [
      "C:\\ProgramData\\Anaconda3\\lib\\site-packages\\matplotlib\\__init__.py:1405: UserWarning: \n",
      "This call to matplotlib.use() has no effect because the backend has already\n",
      "been chosen; matplotlib.use() must be called *before* pylab, matplotlib.pyplot,\n",
      "or matplotlib.backends is imported for the first time.\n",
      "\n",
      "  warnings.warn(_use_error_msg)\n"
     ]
    },
    {
     "name": "stdout",
     "output_type": "stream",
     "text": [
      "Experiment: 0\n",
      "True coef:(147: 1.00), (163: 1.00)\n",
      "Direct coef:(1: 0.05), (2: 0.07), (3: 0.11), (4: 0.06), (5: 0.02), (7: 0.11), (9: 0.17), (11: 0.10), (13: 0.02), (15: 0.08), (16: 0.08), (20: 0.07), (21: 0.00), (23: 0.10), (25: 0.02), (30: 0.05), (37: 0.06), (38: 0.08), (39: 0.19), (40: 0.07), (41: 0.10), (42: 0.06), (43: 0.03), (46: 0.08), (49: 0.08), (52: 0.05), (53: 0.10), (56: 0.05), (58: 0.19), (60: 0.16), (61: 0.05), (62: 0.05), (65: 0.00), (66: 0.01), (68: 0.05), (73: 0.11), (74: 0.01), (75: 0.08), (76: 0.09), (79: 0.03), (80: 0.05), (85: 0.06), (86: 0.03), (90: 0.01), (95: 0.09), (96: 0.10), (97: 0.08), (101: 0.01), (102: 0.00), (103: 0.07), (104: 0.00), (107: 0.02), (109: 0.06), (114: 0.06), (115: 0.07), (116: 0.08), (117: 0.03), (118: 0.07), (120: 0.14), (121: 0.03), (124: 0.04), (128: 0.04), (129: 0.02), (132: 0.06), (135: 0.07), (137: 0.06), (138: 0.11), (139: 0.03), (140: 0.04), (141: 0.02), (143: 0.14), (145: 0.03), (146: 0.04), (147: 1.14), (149: 0.02), (155: 0.09), (160: 0.08), (163: 1.18), (166: 0.06), (167: 0.00), (170: 0.05), (172: 0.05), (174: 0.05), (177: 0.03), (180: 0.05), (182: 0.05), (185: 0.05), (186: 0.03), (188: 0.08), (192: 0.03), (193: 0.02), (198: 0.04), (199: 0.01)\n",
      "early stopping at iter:4449\n",
      "Ortho coef:(9: 0.01), (39: 0.11), (42: 0.25), (114: 0.07), (138: 0.17), (147: 0.68), (163: 0.40)\n",
      "early stopping at iter:3709\n",
      "CrossOrtho coef:(4: 0.08), (9: 0.06), (39: 0.00), (42: 0.02), (58: 0.03), (83: 0.00), (147: 0.79), (163: 0.68)\n",
      "Experiment: 1\n",
      "True coef:(134: 1.00), (172: 1.00)\n",
      "Direct coef:(2: 0.05), (4: 0.07), (7: 0.03), (8: 0.06), (12: 0.05), (15: 0.13), (16: 0.12), (17: 0.07), (19: 0.07), (22: 0.06), (23: 0.10), (24: 0.05), (25: 0.13), (26: 0.04), (27: 0.03), (30: 0.11), (31: 0.15), (33: 0.07), (34: 0.05), (38: 0.07), (40: 0.03), (41: 0.01), (43: 0.03), (47: 0.03), (48: 0.07), (51: 0.19), (52: 0.05), (54: 0.09), (55: 0.09), (57: 0.05), (59: 0.20), (60: 0.07), (61: 0.04), (64: 0.08), (65: 0.11), (70: 0.04), (71: 0.01), (80: 0.05), (81: 0.01), (83: 0.02), (87: 0.12), (88: 0.05), (94: 0.07), (95: 0.06), (96: 0.11), (97: 0.02), (99: 0.09), (100: 0.06), (107: 0.00), (108: 0.14), (110: 0.00), (111: 0.03), (113: 0.12), (114: 0.04), (115: 0.04), (117: 0.16), (119: 0.08), (121: 0.01), (122: 0.05), (123: 0.02), (124: 0.01), (125: 0.06), (128: 0.04), (134: 1.17), (135: 0.09), (139: 0.08), (140: 0.06), (145: 0.12), (147: 0.03), (148: 0.03), (149: 0.10), (150: 0.07), (152: 0.04), (154: 0.04), (155: 0.07), (156: 0.02), (157: 0.03), (158: 0.12), (162: 0.05), (163: 0.07), (167: 0.05), (168: 0.04), (170: 0.09), (172: 1.01), (173: 0.17), (174: 0.08), (178: 0.20), (181: 0.04), (182: 0.06), (184: 0.04), (186: 0.07), (187: 0.08), (191: 0.18), (193: 0.13)\n",
      "early stopping at iter:8489\n",
      "Ortho coef:(102: 0.02), (113: 0.05), (134: 0.86), (172: 0.74), (185: 0.18)\n",
      "early stopping at iter:3492\n",
      "CrossOrtho coef:(83: 0.09), (134: 0.80), (172: 0.82)\n",
      "Experiment: 2\n",
      "True coef:(95: 1.00), (181: 1.00)\n",
      "Direct coef:(1: 0.06), (2: 0.07), (5: 0.01), (6: 0.03), (7: 0.08), (9: 0.06), (10: 0.04), (14: 0.14), (15: 0.01), (17: 0.16), (18: 0.05), (26: 0.09), (30: 0.02), (31: 0.10), (32: 0.04), (33: 0.01), (37: 0.02), (38: 0.01), (39: 0.07), (41: 0.11), (42: 0.05), (43: 0.10), (44: 0.04), (45: 0.06), (50: 0.09), (51: 0.08), (53: 0.05), (54: 0.09), (55: 0.04), (56: 0.09), (58: 0.02), (59: 0.08), (66: 0.04), (70: 0.16), (73: 0.04), (74: 0.05), (75: 0.05), (77: 0.09), (80: 0.15), (82: 0.09), (83: 0.07), (85: 0.10), (88: 0.09), (93: 0.04), (95: 1.28), (97: 0.12), (98: 0.05), (100: 0.14), (102: 0.05), (106: 0.06), (108: 0.15), (113: 0.10), (114: 0.01), (118: 0.08), (120: 0.02), (122: 0.00), (123: 0.03), (124: 0.03), (127: 0.02), (129: 0.07), (130: 0.02), (131: 0.13), (132: 0.04), (134: 0.02), (137: 0.03), (139: 0.06), (140: 0.00), (142: 0.02), (143: 0.05), (144: 0.08), (147: 0.07), (148: 0.06), (149: 0.08), (150: 0.04), (153: 0.03), (156: 0.01), (157: 0.01), (160: 0.14), (161: 0.06), (162: 0.06), (163: 0.01), (164: 0.01), (168: 0.04), (174: 0.12), (176: 0.07), (177: 0.02), (178: 0.12), (181: 1.19), (182: 0.07), (186: 0.07), (187: 0.03), (188: 0.02), (189: 0.08), (190: 0.00), (191: 0.02), (194: 0.06), (196: 0.04), (197: 0.04)\n",
      "early stopping at iter:5930\n",
      "Ortho coef:(5: 0.09), (17: 0.07), (47: 0.05), (84: 0.02), (89: 0.08), (95: 1.11), (102: 0.12), (114: 0.19), (178: 0.19), (181: 0.61)\n",
      "early stopping at iter:3160\n",
      "CrossOrtho coef:(1: 0.03), (70: 0.01), (77: 0.05), (89: 0.00), (95: 0.97), (181: 0.76)\n"
     ]
    },
    {
     "data": {
      "image/png": "[encoded data removed]",
      "text/plain": [
       "<matplotlib.figure.Figure at 0x2138e26ac88>"
      ]
     },
     "metadata": {},
     "output_type": "display_data"
    }
   ],
   "source": [
    "from sklearn.linear_model import Lasso, MultiTaskLasso, MultiTaskLassoCV, LinearRegression\n",
    "import matplotlib.pyplot as plt\n",
    "import numpy as np\n",
    "from logistic_te import gen_data, direct_fit, dml_fit, dml_crossfit\n",
    "\n",
    "\n",
    "def main():\n",
    "    n_samples = 5000 # samples used for estimation\n",
    "    dim_x = 200 # dimension of controls x\n",
    "    dim_z = 200 # dimension of variables used for heterogeneity (subset of x)\n",
    "    kappa_x = 38 # support size of control function\n",
    "    kappa_theta = 2 # support size of target parameter\n",
    "    sigma_eta = 5 # variance of error in secondary moment equation\n",
    "    lambda_coef = 1 # coeficient in front of the asymptotic rate for regularization lambda\n",
    "\n",
    "    l2_direct = []\n",
    "    l2_ortho = []\n",
    "    l2_cross_ortho = []\n",
    "    l1_direct = []\n",
    "    l1_ortho = []\n",
    "    l1_cross_ortho = []\n",
    "    for step in range(3):\n",
    "        print(\"Experiment: {}\".format(step))\n",
    "        # Generate data\n",
    "        x, t, z, y, support_x, support_theta, alpha_x, beta_x, theta =\\\n",
    "                gen_data(n_samples, dim_x, dim_z, kappa_x, kappa_theta, sigma_eta)\n",
    "        true_coef = np.zeros((dim_z, 1))\n",
    "        true_coef[support_theta] = theta\n",
    "        print('True coef:' + ', '.join([\"({}: {:.2f})\".format(ind, c) for ind, c in enumerate(true_coef.flatten()) if c>0.001]))\n",
    "        \n",
    "        # Direct lasso for all coefficients\n",
    "        model_y, model_t= direct_fit(x, t, z, y)\n",
    "        print('Direct coef:' + ', '.join([\"({}: {:.2f})\".format(ind, c) for ind, c in enumerate(model_y.coef_.flatten()[:dim_z]) if c>0.001]))\n",
    "        l1_direct.append(np.linalg.norm(model_y.coef_.flatten()[:z.shape[1]] - true_coef.flatten(), ord=1))\n",
    "        l2_direct.append(np.linalg.norm(model_y.coef_.flatten()[:z.shape[1]].flatten() - true_coef.flatten(), ord=2))\n",
    "        \n",
    "        # Orthogonal lasso estimation\n",
    "        ortho_coef = dml_fit(x, t, z, y)\n",
    "        l1_ortho.append(np.linalg.norm(ortho_coef.flatten() - true_coef.flatten(), ord=1))\n",
    "        l2_ortho.append(np.linalg.norm(ortho_coef.flatten() - true_coef.flatten(), ord=2))\n",
    "        print('Ortho coef:' + ', '.join([\"({}: {:.2f})\".format(ind, c) for ind, c in enumerate(ortho_coef) if c>0.001]))\n",
    "        \n",
    "        # Crossfit Orthogonal lasso estimation\n",
    "        ortho_coef = dml_crossfit(x, t, z, y)\n",
    "        l1_cross_ortho.append(np.linalg.norm(ortho_coef - true_coef.flatten(), ord=1))\n",
    "        l2_cross_ortho.append(np.linalg.norm(ortho_coef - true_coef.flatten(), ord=2))\n",
    "        print('CrossOrtho coef:' + ', '.join([\"({}: {:.2f})\".format(ind, c) for ind, c in enumerate(ortho_coef) if c>0.001]))\n",
    "\n",
    "\n",
    "    plt.figure(figsize=(20, 5))\n",
    "    plt.subplot(1,2,1)\n",
    "    plt.violinplot([np.array(l2_direct), np.array(l2_ortho), np.array(l2_cross_ortho)], showmedians=True)\n",
    "    plt.xticks([1,2,3], ['direct', 'ortho', 'crossfit_ortho'])\n",
    "    plt.title('$\\ell_2$ error')\n",
    "    plt.subplot(1,2,2)\n",
    "    plt.violinplot([np.array(l1_direct), np.array(l1_ortho), np.array(l1_cross_ortho)], showmedians=True)\n",
    "    plt.xticks([1,2,3], ['direct', 'ortho', 'crossfit_ortho'])\n",
    "    plt.title('$\\ell_1$ error')\n",
    "    plt.show()\n",
    "    \n",
    "main()"
   ]
  }
 ],
 "metadata": {
  "kernelspec": {
   "display_name": "Python 3",
   "language": "python",
   "name": "python3"
  },
  "language_info": {
   "codemirror_mode": {
    "name": "ipython",
    "version": 3
   },
   "file_extension": ".py",
   "mimetype": "text/x-python",
   "name": "python",
   "nbconvert_exporter": "python",
   "pygments_lexer": "ipython3",
   "version": "3.6.4"
  }
 },
 "nbformat": 4,
 "nbformat_minor": 2
}
