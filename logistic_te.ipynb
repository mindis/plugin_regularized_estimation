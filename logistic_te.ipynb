{
 "cells": [
  {
   "cell_type": "code",
   "execution_count": 2,
   "metadata": {
    "collapsed": false
   },
   "outputs": [
    {
     "name": "stdout",
     "output_type": "stream",
     "text": [
      "The autoreload extension is already loaded. To reload it, use:\n",
      "  %reload_ext autoreload\n"
     ]
    }
   ],
   "source": [
    "# Jupyter magic\n",
    "%matplotlib inline\n",
    "%load_ext autoreload\n",
    "%autoreload 2"
   ]
  },
  {
   "cell_type": "code",
   "execution_count": 3,
   "metadata": {
    "collapsed": false,
    "scrolled": false
   },
   "outputs": [
    {
     "name": "stderr",
     "output_type": "stream",
     "text": [
      "C:\\ProgramData\\Anaconda3\\lib\\site-packages\\matplotlib\\__init__.py:1405: UserWarning: \n",
      "This call to matplotlib.use() has no effect because the backend has already\n",
      "been chosen; matplotlib.use() must be called *before* pylab, matplotlib.pyplot,\n",
      "or matplotlib.backends is imported for the first time.\n",
      "\n",
      "  warnings.warn(_use_error_msg)\n"
     ]
    },
    {
     "name": "stdout",
     "output_type": "stream",
     "text": [
      "early stopping at iter:3933\n",
      "early stopping at iter:3311\n",
      "early stopping at iter:4437\n",
      "early stopping at iter:3575\n",
      "early stopping at iter:3766\n"
     ]
    },
    {
     "data": {
      "image/png": "[encoded data removed]",
      "text/plain": [
       "<matplotlib.figure.Figure at 0x1aad4014f60>"
      ]
     },
     "metadata": {},
     "output_type": "display_data"
    }
   ],
   "source": [
    "from sklearn.linear_model import Lasso, MultiTaskLasso, MultiTaskLassoCV, LinearRegression\n",
    "import matplotlib.pyplot as plt\n",
    "import numpy as np\n",
    "from logistic_te import gen_data, direct_fit, dml_fit\n",
    "\n",
    "\n",
    "def main():\n",
    "    n_samples = 5000 # samples used for estimation\n",
    "    dim_x = 50 # dimension of controls x\n",
    "    dim_z = 50 # dimension of variables used for heterogeneity (subset of x)\n",
    "    kappa_x = 25 # support size of control function\n",
    "    kappa_theta = 1 # support size of target parameter\n",
    "    sigma_eta = 5 # variance of error in secondary moment equation\n",
    "    lambda_coef = 1 # coeficient in front of the asymptotic rate for regularization lambda\n",
    "\n",
    "    l2_direct = []\n",
    "    l2_ortho = []\n",
    "    l2_cross_ortho = []\n",
    "    l1_direct = []\n",
    "    l1_ortho = []\n",
    "    l1_cross_ortho = []\n",
    "    for _ in range(5):\n",
    "        # Generate data\n",
    "        x, t, z, y, support_x, support_theta, alpha_x, beta_x, theta =\\\n",
    "                gen_data(n_samples, dim_x, dim_z, kappa_x, kappa_theta, sigma_eta)\n",
    "        true_coef = np.zeros((dim_z, 1))\n",
    "        true_coef[support_theta] = theta\n",
    "        \n",
    "        \n",
    "        # Direct lasso for all coefficients\n",
    "        model_y, model_t= direct_fit(x, t, z, y)\n",
    "        l1_direct.append(np.linalg.norm(model_y.coef_.flatten()[:z.shape[1]] - true_coef.flatten(), ord=1))\n",
    "        l2_direct.append(np.linalg.norm(model_y.coef_.flatten()[:z.shape[1]].flatten() - true_coef.flatten(), ord=2))\n",
    "        \n",
    "        # Orthogonal lasso estimation\n",
    "        ortho_coef = dml_fit(x, t, z, y)\n",
    "        l1_ortho.append(np.linalg.norm(ortho_coef - true_coef.flatten(), ord=1))\n",
    "        l2_ortho.append(np.linalg.norm(ortho_coef - true_coef.flatten(), ord=2))\n",
    "\n",
    "\n",
    "    plt.figure(figsize=(20, 5))\n",
    "    plt.subplot(1,2,1)\n",
    "    plt.violinplot([np.array(l2_direct) - np.array(l2_ortho)], showmedians=True)\n",
    "    plt.xticks([1], ['direct - ortho'])\n",
    "    plt.title('$\\ell_2$ error')\n",
    "    plt.subplot(1,2,2)\n",
    "    plt.violinplot([np.array(l1_direct) - np.array(l1_ortho)], showmedians=True)\n",
    "    plt.xticks([1], ['direct - ortho'])\n",
    "    plt.title('$\\ell_1$ error')\n",
    "    plt.show()\n",
    "    \n",
    "main()"
   ]
  }
 ],
 "metadata": {
  "kernelspec": {
   "display_name": "Python 3",
   "language": "python",
   "name": "python3"
  },
  "language_info": {
   "codemirror_mode": {
    "name": "ipython",
    "version": 3
   },
   "file_extension": ".py",
   "mimetype": "text/x-python",
   "name": "python",
   "nbconvert_exporter": "python",
   "pygments_lexer": "ipython3",
   "version": "3.6.4"
  }
 },
 "nbformat": 4,
 "nbformat_minor": 2
}
