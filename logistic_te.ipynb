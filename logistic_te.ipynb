{
 "cells": [
  {
   "cell_type": "code",
   "execution_count": 2,
   "metadata": {
    "collapsed": false
   },
   "outputs": [
    {
     "name": "stdout",
     "output_type": "stream",
     "text": [
      "The autoreload extension is already loaded. To reload it, use:\n",
      "  %reload_ext autoreload\n"
     ]
    }
   ],
   "source": [
    "# Jupyter magic\n",
    "%matplotlib inline\n",
    "%load_ext autoreload\n",
    "%autoreload 2"
   ]
  },
  {
   "cell_type": "code",
   "execution_count": 16,
   "metadata": {
    "collapsed": false,
    "scrolled": false
   },
   "outputs": [
    {
     "name": "stdout",
     "output_type": "stream",
     "text": [
      "Experiment: 0\n",
      "True coef:(38: 1.00)\n",
      "Direct coef:(1: 0.02), (2: 0.05), (6: 0.09), (7: 0.03), (11: 0.09), (13: 0.20), (14: 0.06), (18: 0.00), (19: 0.13), (23: 0.04), (24: 0.02), (28: 0.09), (29: 0.05), (30: 0.02), (33: 0.08), (37: 0.04), (38: 0.98), (40: 0.02), (42: 0.03), (44: 0.11), (45: 0.13), (46: 0.01), (47: 0.06), (48: 0.06), (49: 0.06)\n",
      "early stopping at iter:3133\n",
      "Ortho coef:(13: 0.09), (38: 0.78), (45: 0.03)\n",
      "Experiment: 1\n",
      "True coef:(11: 1.00)\n",
      "Direct coef:(3: 0.02), (9: 0.06), (10: 0.00), (11: 1.02), (12: 0.00), (14: 0.03), (18: 0.05), (20: 0.02), (21: 0.04), (22: 0.04), (23: 0.07), (25: 0.10), (28: 0.03), (32: 0.09), (33: 0.03), (35: 0.00), (39: 0.10), (41: 0.03), (43: 0.03), (44: 0.09), (45: 0.10), (46: 0.08), (49: 0.01)\n",
      "early stopping at iter:3608\n",
      "Ortho coef:(11: 0.79), (45: 0.04)\n",
      "Experiment: 2\n",
      "True coef:(43: 1.00)\n",
      "Direct coef:(0: 0.06), (1: 0.01), (7: 0.09), (8: 0.07), (9: 0.04), (10: 0.08), (11: 0.06), (14: 0.03), (17: 0.00), (18: 0.08), (19: 0.01), (20: 0.00), (21: 0.05), (22: 0.01), (23: 0.14), (24: 0.06), (25: 0.09), (27: 0.07), (29: 0.01), (31: 0.04), (42: 0.01), (43: 1.12), (44: 0.02), (45: 0.09), (46: 0.02), (48: 0.00)\n",
      "early stopping at iter:3917\n",
      "Ortho coef:(21: 0.03), (43: 0.92)\n",
      "Experiment: 3\n",
      "True coef:(15: 1.00)\n",
      "Direct coef:(2: 0.05), (5: 0.04), (7: 0.06), (9: 0.05), (14: 0.08), (15: 1.03), (16: 0.01), (17: 0.03), (22: 0.01), (23: 0.02), (25: 0.09), (30: 0.05), (33: 0.06), (34: 0.05), (35: 0.10), (38: 0.12), (40: 0.01), (41: 0.05), (43: 0.04), (46: 0.01), (48: 0.09), (49: 0.06)\n",
      "early stopping at iter:3655\n",
      "Ortho coef:(2: 0.04), (7: 0.01), (15: 0.76)\n",
      "Experiment: 4\n",
      "True coef:(2: 1.00)\n",
      "Direct coef:(1: 0.01), (2: 1.11), (5: 0.03), (7: 0.02), (11: 0.05), (13: 0.02), (14: 0.07), (15: 0.01), (16: 0.02), (20: 0.08), (21: 0.09), (23: 0.05), (26: 0.14), (32: 0.06), (33: 0.05), (34: 0.11), (36: 0.08), (37: 0.06), (43: 0.11), (44: 0.07), (48: 0.10), (49: 0.04)\n",
      "early stopping at iter:3063\n",
      "Ortho coef:(2: 0.81), (26: 0.00)\n"
     ]
    },
    {
     "data": {
      "image/png": "[encoded data removed]",
      "text/plain": [
       "<matplotlib.figure.Figure at 0x1aae4e658d0>"
      ]
     },
     "metadata": {},
     "output_type": "display_data"
    }
   ],
   "source": [
    "from sklearn.linear_model import Lasso, MultiTaskLasso, MultiTaskLassoCV, LinearRegression\n",
    "import matplotlib.pyplot as plt\n",
    "import numpy as np\n",
    "from logistic_te import gen_data, direct_fit, dml_fit\n",
    "\n",
    "\n",
    "def main():\n",
    "    n_samples = 5000 # samples used for estimation\n",
    "    dim_x = 50 # dimension of controls x\n",
    "    dim_z = 50 # dimension of variables used for heterogeneity (subset of x)\n",
    "    kappa_x = 25 # support size of control function\n",
    "    kappa_theta = 1 # support size of target parameter\n",
    "    sigma_eta = 5 # variance of error in secondary moment equation\n",
    "    lambda_coef = 1 # coeficient in front of the asymptotic rate for regularization lambda\n",
    "\n",
    "    l2_direct = []\n",
    "    l2_ortho = []\n",
    "    l2_cross_ortho = []\n",
    "    l1_direct = []\n",
    "    l1_ortho = []\n",
    "    l1_cross_ortho = []\n",
    "    for step in range(5):\n",
    "        print(\"Experiment: {}\".format(step))\n",
    "        # Generate data\n",
    "        x, t, z, y, support_x, support_theta, alpha_x, beta_x, theta =\\\n",
    "                gen_data(n_samples, dim_x, dim_z, kappa_x, kappa_theta, sigma_eta)\n",
    "        true_coef = np.zeros((dim_z, 1))\n",
    "        true_coef[support_theta] = theta\n",
    "        print('True coef:' + ', '.join([\"({}: {:.2f})\".format(ind, c) for ind, c in enumerate(true_coef.flatten()) if c>0.001]))\n",
    "        \n",
    "        # Direct lasso for all coefficients\n",
    "        model_y, model_t= direct_fit(x, t, z, y)\n",
    "        print('Direct coef:' + ', '.join([\"({}: {:.2f})\".format(ind, c) for ind, c in enumerate(model_y.coef_.flatten()[:dim_z]) if c>0.001]))\n",
    "        l1_direct.append(np.linalg.norm(model_y.coef_.flatten()[:z.shape[1]] - true_coef.flatten(), ord=1))\n",
    "        l2_direct.append(np.linalg.norm(model_y.coef_.flatten()[:z.shape[1]].flatten() - true_coef.flatten(), ord=2))\n",
    "        \n",
    "        # Orthogonal lasso estimation\n",
    "        ortho_coef = dml_fit(x, t, z, y)\n",
    "        l1_ortho.append(np.linalg.norm(ortho_coef.flatten() - true_coef.flatten(), ord=1))\n",
    "        l2_ortho.append(np.linalg.norm(ortho_coef.flatten() - true_coef.flatten(), ord=2))\n",
    "        print('Ortho coef:' + ', '.join([\"({}: {:.2f})\".format(ind, c) for ind, c in enumerate(ortho_coef) if c>0.001]))\n",
    "\n",
    "    plt.figure(figsize=(20, 5))\n",
    "    plt.subplot(1,2,1)\n",
    "    plt.violinplot([np.array(l2_direct) - np.array(l2_ortho)], showmedians=True)\n",
    "    plt.xticks([1], ['direct - ortho'])\n",
    "    plt.title('$\\ell_2$ error')\n",
    "    plt.subplot(1,2,2)\n",
    "    plt.violinplot([np.array(l1_direct) - np.array(l1_ortho)], showmedians=True)\n",
    "    plt.xticks([1], ['direct - ortho'])\n",
    "    plt.title('$\\ell_1$ error')\n",
    "    plt.show()\n",
    "    \n",
    "main()"
   ]
  }
 ],
 "metadata": {
  "kernelspec": {
   "display_name": "Python 3",
   "language": "python",
   "name": "python3"
  },
  "language_info": {
   "codemirror_mode": {
    "name": "ipython",
    "version": 3
   },
   "file_extension": ".py",
   "mimetype": "text/x-python",
   "name": "python",
   "nbconvert_exporter": "python",
   "pygments_lexer": "ipython3",
   "version": "3.6.4"
  }
 },
 "nbformat": 4,
 "nbformat_minor": 2
}
