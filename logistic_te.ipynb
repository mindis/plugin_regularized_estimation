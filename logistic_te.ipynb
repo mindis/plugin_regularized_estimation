{
 "cells": [
  {
   "cell_type": "code",
   "execution_count": 1,
   "metadata": {
    "collapsed": false
   },
   "outputs": [],
   "source": [
    "# Jupyter magic\n",
    "%matplotlib inline\n",
    "%load_ext autoreload\n",
    "%autoreload 2"
   ]
  },
  {
   "cell_type": "code",
   "execution_count": 175,
   "metadata": {
    "collapsed": false
   },
   "outputs": [],
   "source": [
    "import numpy as np\n",
    "from sklearn.model_selection import KFold\n",
    "from sklearn.linear_model import LogisticRegression\n",
    "from sklearn.linear_model import Lasso, MultiTaskLasso, MultiTaskLassoCV, LinearRegression\n",
    "import matplotlib.pyplot as plt\n",
    "from logistic_with_offset import LogisticWithOffset\n",
    "\n",
    "\n",
    "def gen_data(n_samples, dim_x, dim_z, kappa_x, kappa_theta, sigma_eta):\n",
    "    \"\"\" Generate data from:\n",
    "    Pr[y|x,t] = Sigmoid(<z[support_theta], theta> * t + <x[support_x], alpha_x>)\n",
    "    t = <x[support_x], beta_x> + eta\n",
    "    epsilon ~ Normal(0, sigma_epsilon)\n",
    "    eta ~ Normal(0, sigma_eta)\n",
    "    z = (x[subset_z], 1) for some subset of x of size dim_z - 1\n",
    "    alpha_x, beta_x, theta are all equal to 1\n",
    "    support_x, support_theta, subset_z drawn uniformly at random\n",
    "    \"\"\"\n",
    "    x = np.random.uniform(-.5, .5, size=(n_samples, dim_x))\n",
    "    supp_z = np.random.choice(np.arange(x.shape[1]), dim_z, replace=False)\n",
    "    z = x[:, supp_z].reshape(n_samples, -1)\n",
    "        \n",
    "    support_x = np.random.choice(np.arange(0, dim_x), kappa_x, replace=False)\n",
    "    support_theta = np.random.choice(np.arange(0, dim_z), kappa_theta, replace=False)\n",
    "    alpha_x = np.random.uniform(1, 1, size=(kappa_x, 1))\n",
    "    beta_x = np.random.uniform(1, 1, size=(kappa_x, 1))\n",
    "    theta = np.random.uniform(1, 1, size=(kappa_theta, 1))\n",
    "    t = np.dot(x[:, support_x], beta_x) + np.random.normal(0, sigma_eta, size=(n_samples, 1))\n",
    "    index_y = np.dot(z[:, support_theta], theta) * t + np.dot(x[:, support_x], alpha_x)\n",
    "    p_y = 1/(1+np.exp(-index_y))\n",
    "    y = np.random.binomial(1, p_y)\n",
    "    return x, t, z, y, support_x, support_theta, alpha_x, beta_x, theta\n",
    "\n",
    "def direct_fit(x, t, z, y):\n",
    "    n_samples = x.shape[0]\n",
    "    \n",
    "    model_t = LinearRegression(fit_intercept=False) #Lasso(alpha=np.sqrt(np.log(x.shape[1])/n_samples))\n",
    "    model_t.fit(x, t.ravel())\n",
    "\n",
    "    comp_x = np.concatenate((z * t, x), axis=1)\n",
    "    steps = 10000\n",
    "    lr = 1/np.sqrt(steps)\n",
    "    l1_reg = np.sqrt(np.log(comp_x.shape[1])/(n_samples))/2.\n",
    "    #model_y = LogisticWithOffset(alpha_l1=l1_reg, alpha_l2=0.,\\\n",
    "    #                             steps=steps, learning_rate=lr)\n",
    "    model_y = LogisticRegression(penalty='l1', C=1./l1_reg)\n",
    "    model_y.fit(comp_x, y.reshape(-1, 1))\n",
    "    \n",
    "    return model_y, model_t\n",
    "    \n",
    "\n",
    "def dml_fit(x, t, z, y):\n",
    "    \"\"\" Orthogonal estimation of coefficient theta\n",
    "    \"\"\"\n",
    "    n_samples = x.shape[0]\n",
    "    comp_x = np.concatenate((z * t, x), axis=1)\n",
    "    \n",
    "    tr_inds, tst_inds = np.arange(n_samples//2), np.arange(n_samples//2, n_samples)\n",
    "    model_y, model_t = direct_fit(x[tr_inds], t[tr_inds], z[tr_inds], y[tr_inds])\n",
    "    \n",
    "    # \\tilde{theta}\n",
    "    theta_prel = model_y.coef_.flatten()[:z.shape[1]].reshape(-1, 1)\n",
    "    # \\tilde{f}(u) = u'alpha_prel\n",
    "    alpha_prel = model_y.coef_.flatten()[z.shape[1]:].reshape(-1, 1)\n",
    "    # \\tilde{h}(u) = u'beta_prel\n",
    "    beta_prel = model_t.coef_.flatten().reshape(-1, 1)\n",
    "    # \\tilde{\\pi}(u) = model_t.predict(u)\n",
    "    t_test_pred = model_t.predict(x[tst_inds]).reshape(-1, 1)\n",
    "    # G_prel = model_y.predict([x, u])\n",
    "    y_test_pred = model_y.predict_proba(comp_x[tst_inds])[:, 1].reshape(-1, 1)\n",
    "    # \\hat{q}(u) = \\pi(u) * B(u)'\\tilde{theta} + u'\\tilde{alpha}\n",
    "    q_test = t_test_pred * np.dot(z[tst_inds], theta_prel) + np.dot(x[tst_inds], alpha_prel)\n",
    "    # V(z) = G(index) * (1 - G(index))\n",
    "    V_test = y_test_pred * (1 - y_test_pred)\n",
    "    sample_weights = (1./np.clip(V_test, 0.0001, 1))/np.mean((1./np.clip(V_test, 0.0001, 1)))\n",
    "    plt.figure()\n",
    "    plt.hist(sample_weights)\n",
    "    plt.show()\n",
    "    # res = x - \\hat{h}(u) = B(u)*(tau - pi(u))\n",
    "    res_test = t[tst_inds] - t_test_pred\n",
    "    comp_res_test = z[tst_inds] * res_test\n",
    "    y_test = y[tst_inds].reshape(-1, 1)\n",
    "    steps = 10000\n",
    "    lr = 1/np.sqrt(steps)\n",
    "    l1_reg = np.sqrt(np.log(z.shape[1])/n_samples)/2.\n",
    "    model_final = LogisticWithOffset(alpha_l1=l1_reg, alpha_l2=0.,\\\n",
    "                                 steps=steps, learning_rate=lr, tol=1e-7)\n",
    "    model_final.fit(comp_res_test, y_test, offset=q_test, sample_weights=sample_weights)\n",
    "    print(model_final.coef_.flatten())\n",
    "    return model_final.coef_.flatten()"
   ]
  },
  {
   "cell_type": "code",
   "execution_count": 176,
   "metadata": {
    "collapsed": false,
    "scrolled": false
   },
   "outputs": [
    {
     "name": "stdout",
     "output_type": "stream",
     "text": [
      "2468\n",
      "done\n",
      "['0.0072', '-0.048', '0.028', '0.013', '0.027', '0.025', '-0.035', '-0.017', '-0.05', '-0.012', '0.024', '0.014', '0.028', '0.018', '-0.0023', '0.019', '-0.014', '-0.014', '0.035', '0.063', '0.0088', '-0.0069', '-0.073', '-0.0095', '0.012', '0.035', '0.014', '-0.032', '0.011', '-0.015', '-0.023', '0.066', '-0.0091', '0.035', '-0.011', '-0.045', '0.021', '0.024', '-0.043', '-0.077', '-0.025', '0.011', '0.011', '-0.05', '1.0', '-0.034', '0.041', '-0.041', '0.047', '-0.024']\n",
      "['-0.14', '0.25', '0.57', '-0.053', '0.58', '0.22', '-0.27', '1.2', '1.1', '0.91', '-0.21', '1.4', '1.2', '-0.13', '0.04', '0.28', '0.062', '0.9', '0.11', '1.2', '1.2', '-0.071', '-0.17', '0.98', '1.2', '0.36', '1.3', '-0.15', '1.4', '0.87', '1.3', '0.12', '-0.21', '0.35', '1.6', '0.12', '-0.06', '0.73', '-0.14', '0.62', '0.94', '0.58', '-0.24', '-0.12', '0.075', '0.78', '1.1', '1.1', '0.98', '0.39']\n"
     ]
    },
    {
     "name": "stderr",
     "output_type": "stream",
     "text": [
      "C:\\ProgramData\\Anaconda3\\lib\\site-packages\\sklearn\\utils\\validation.py:578: DataConversionWarning: A column-vector y was passed when a 1d array was expected. Please change the shape of y to (n_samples, ), for example using ravel().\n",
      "  y = column_or_1d(y, warn=True)\n"
     ]
    },
    {
     "data": {
      "image/png": "[encoded data removed]",
      "text/plain": [
       "<matplotlib.figure.Figure at 0x21c3b65a160>"
      ]
     },
     "metadata": {},
     "output_type": "display_data"
    },
    {
     "name": "stdout",
     "output_type": "stream",
     "text": [
      "early stopping at iter:3908\n",
      "[ 0.0032248  -0.          0.         -0.          0.          0.          0.\n",
      " -0.         -0.         -0.         -0.01439909 -0.          0.          0.\n",
      " -0.          0.02236701 -0.         -0.04927143 -0.          0.         -0.\n",
      " -0.          0.         -0.          0.          0.          0.         -0.\n",
      " -0.         -0.         -0.          0.         -0.         -0.          0.\n",
      "  0.          0.          0.         -0.05896434 -0.          0.         -0.\n",
      "  0.         -0.          0.82317829 -0.05829277  0.         -0.         -0.\n",
      "  0.        ]\n",
      "2450\n",
      "done\n",
      "['-0.056', '-0.039', '0.015', '-0.00014', '-0.023', '-0.045', '0.068', '1.1', '0.033', '0.018', '0.026', '-0.036', '0.015', '-0.03', '-0.01', '0.031', '0.035', '-0.057', '0.037', '-0.062', '-0.012', '-0.065', '0.031', '-0.013', '0.065', '-0.012', '0.033', '-0.011', '0.035', '0.038', '0.035', '0.023', '0.024', '-0.0057', '0.0077', '-0.038', '0.03', '-0.011', '-0.039', '-0.072', '0.04', '0.0064', '-0.034', '-0.013', '-0.028', '-0.00017', '0.024', '0.00097', '-0.02', '0.041']\n",
      "['0.11', '0.66', '0.18', '0.94', '-0.075', '-0.092', '-0.35', '-0.21', '0.83', '0.97', '-0.25', '1.0', '0.42', '0.6', '0.82', '0.78', '0.87', '0.81', '0.18', '-0.1', '-0.3', '-0.38', '-0.3', '0.32', '-0.38', '0.8', '-0.16', '-0.38', '-0.12', '-0.22', '-0.012', '1.0', '0.86', '0.88', '0.87', '0.24', '0.051', '1.2', '0.94', '1.5', '1.1', '-0.31', '1.1', '0.93', '0.94', '-0.011', '-0.2', '0.64', '0.77', '0.32']\n"
     ]
    },
    {
     "data": {
      "image/png": "[encoded data removed]",
      "text/plain": [
       "<matplotlib.figure.Figure at 0x21c3b65a358>"
      ]
     },
     "metadata": {},
     "output_type": "display_data"
    },
    {
     "name": "stdout",
     "output_type": "stream",
     "text": [
      "early stopping at iter:3644\n",
      "[-0.         -0.          0.         -0.          0.          0.          0.\n",
      "  0.85314447  0.          0.         -0.         -0.         -0.          0.\n",
      " -0.         -0.          0.         -0.          0.         -0.          0.\n",
      " -0.          0.          0.         -0.         -0.         -0.         -0.\n",
      "  0.          0.         -0.          0.          0.         -0.          0.\n",
      "  0.          0.          0.         -0.         -0.          0.          0.\n",
      " -0.          0.         -0.         -0.         -0.          0.         -0.\n",
      "  0.        ]\n",
      "2496\n",
      "done\n",
      "['-0.0089', '-0.023', '0.0024', '-0.015', '-0.04', '0.0077', '-0.063', '1.0', '0.02', '-0.037', '0.0014', '-0.0048', '0.013', '0.038', '0.016', '0.073', '-0.04', '0.03', '-0.022', '-0.055', '-0.042', '0.011', '-0.046', '-0.015', '-0.0046', '-0.055', '-0.027', '-0.0034', '-0.032', '0.012', '0.046', '-0.043', '0.063', '-0.027', '0.023', '-0.027', '-0.01', '-0.032', '0.026', '0.0057', '0.013', '-0.031', '-0.011', '0.0072', '0.02', '-0.0022', '-0.0029', '-0.055', '-0.032', '-0.0046']\n",
      "['-0.0065', '1.3', '1.0', '-0.15', '-0.0054', '1.1', '0.25', '1.2', '-0.044', '0.15', '-0.092', '1.3', '0.81', '-0.023', '-0.22', '1.3', '0.79', '1.0', '0.012', '1.1', '-0.012', '1.1', '0.71', '0.076', '0.078', '0.38', '0.19', '0.95', '-0.27', '0.63', '0.25', '1.0', '0.84', '0.27', '-0.49', '-0.12', '1.0', '-0.35', '-0.0022', '0.79', '0.86', '1.2', '-0.26', '1.1', '0.41', '0.69', '-0.01', '1.4', '0.85', '0.95']\n"
     ]
    },
    {
     "data": {
      "image/png": "[encoded data removed]",
      "text/plain": [
       "<matplotlib.figure.Figure at 0x21c214f9e10>"
      ]
     },
     "metadata": {},
     "output_type": "display_data"
    },
    {
     "name": "stdout",
     "output_type": "stream",
     "text": [
      "early stopping at iter:4032\n",
      "[-0.          0.         -0.          0.         -0.          0.          0.\n",
      "  0.89876711 -0.          0.          0.          0.          0.          0.\n",
      " -0.          0.         -0.         -0.         -0.         -0.          0.\n",
      " -0.         -0.         -0.          0.         -0.         -0.         -0.\n",
      " -0.         -0.         -0.         -0.          0.         -0.          0.\n",
      " -0.         -0.         -0.         -0.         -0.          0.         -0.\n",
      " -0.          0.          0.         -0.          0.         -0.          0.\n",
      " -0.        ]\n",
      "2560\n",
      "done\n",
      "['0.05', '-0.022', '0.038', '0.0039', '-0.0071', '-0.02', '0.012', '-0.0017', '-0.00098', '-0.028', '0.054', '0.047', '0.041', '-0.0063', '0.054', '-0.034', '0.02', '-0.00084', '-0.0048', '-0.045', '-0.006', '-0.01', '0.023', '1.0', '0.015', '0.0056', '0.0029', '-0.0059', '-0.028', '0.057', '-0.078', '0.019', '-0.033', '0.024', '0.061', '0.021', '-0.02', '-0.0028', '-0.016', '0.0058', '-0.0019', '-0.032', '0.016', '-0.0016', '0.027', '-0.0054', '-0.018', '-0.00035', '0.037', '-0.0045']\n",
      "['-0.066', '-0.01', '-0.34', '-0.31', '0.81', '0.085', '-0.11', '-0.086', '0.37', '0.8', '0.97', '-0.016', '-0.54', '0.91', '0.65', '1.7', '1.2', '-0.45', '1.1', '-0.88', '1.3', '0.056', '0.73', '0.85', '0.028', '0.89', '-0.072', '1.0', '1.0', '-0.26', '0.27', '-0.63', '1.2', '-0.1', '0.68', '1.0', '0.78', '0.83', '0.25', '-0.34', '0.82', '1.3', '0.97', '-0.029', '1.0', '0.76', '0.91', '-0.027', '-0.16', '-0.15']\n"
     ]
    },
    {
     "data": {
      "image/png": "[encoded data removed]",
      "text/plain": [
       "<matplotlib.figure.Figure at 0x21c3b680cf8>"
      ]
     },
     "metadata": {},
     "output_type": "display_data"
    },
    {
     "name": "stdout",
     "output_type": "stream",
     "text": [
      "early stopping at iter:4163\n",
      "[-0.         -0.05142189  0.         -0.          0.         -0.         -0.\n",
      "  0.         -0.          0.         -0.         -0.          0.         -0.\n",
      "  0.0397309   0.          0.         -0.         -0.          0.          0.\n",
      " -0.          0.          0.73975492 -0.         -0.         -0.          0.\n",
      "  0.          0.          0.          0.07121287  0.          0.0058636   0.\n",
      " -0.          0.         -0.          0.02423496 -0.04816898 -0.          0.\n",
      " -0.0287932   0.          0.          0.          0.05027887 -0.01507066\n",
      "  0.01785655 -0.04004676]\n",
      "2633\n",
      "done\n",
      "['0.031', '0.023', '0.028', '0.026', '0.0092', '-0.033', '0.012', '0.028', '-0.02', '-0.025', '0.027', '-0.017', '-0.025', '0.02', '0.031', '0.021', '0.0073', '0.011', '0.033', '0.012', '-0.035', '-0.036', '-0.0013', '0.016', '0.045', '0.00069', '0.00066', '0.028', '0.013', '-0.02', '1.1', '0.014', '0.027', '-0.0098', '0.0011', '-0.023', '0.0037', '0.035', '-0.043', '0.016', '-0.016', '-0.0048', '0.012', '0.0075', '0.012', '-0.034', '-0.05', '-0.00075', '-0.05', '-0.022']\n",
      "['0.17', '0.031', '0.16', '1.0', '-0.069', '1.2', '1.4', '-0.24', '0.12', '1.1', '1.2', '0.016', '0.43', '1.1', '0.031', '0.99', '0.12', '-0.25', '0.62', '-0.026', '1.1', '-0.022', '-0.33', '0.091', '0.48', '0.78', '-0.06', '-0.19', '0.54', '0.87', '1.3', '-0.097', '1.1', '1.4', '1.0', '-0.4', '0.93', '-0.18', '1.1', '-0.23', '-0.25', '1.2', '0.7', '0.96', '0.9', '0.11', '-0.21', '-0.094', '0.92', '1.1']\n"
     ]
    },
    {
     "data": {
      "image/png": "[encoded data removed]",
      "text/plain": [
       "<matplotlib.figure.Figure at 0x21c3372d940>"
      ]
     },
     "metadata": {},
     "output_type": "display_data"
    },
    {
     "name": "stdout",
     "output_type": "stream",
     "text": [
      "early stopping at iter:1797\n",
      "[ 0.03794186  0.          0.00808191  0.          0.         -0.          0.\n",
      " -0.01219599  0.          0.          0.          0.          0.         -0.\n",
      "  0.         -0.01611973 -0.01883343  0.          0.          0.         -0.\n",
      "  0.         -0.          0.          0.         -0.          0.          0.\n",
      " -0.00649347 -0.          0.70886689  0.00261599  0.04039655  0.         -0.\n",
      " -0.00426894 -0.          0.         -0.         -0.00551532 -0.         -0.\n",
      "  0.01730738  0.          0.          0.         -0.          0.         -0.\n",
      "  0.        ]\n"
     ]
    },
    {
     "data": {
      "image/png": "[encoded data removed]",
      "text/plain": [
       "<matplotlib.figure.Figure at 0x21c20602b00>"
      ]
     },
     "metadata": {},
     "output_type": "display_data"
    }
   ],
   "source": [
    "from sklearn.linear_model import Lasso, MultiTaskLasso, MultiTaskLassoCV, LinearRegression\n",
    "import matplotlib.pyplot as plt\n",
    "\n",
    "\n",
    "def main():\n",
    "    n_samples = 5000 # samples used for estimation\n",
    "    dim_x = 50 # dimension of controls x\n",
    "    dim_z = 50 # dimension of variables used for heterogeneity (subset of x)\n",
    "    kappa_x = 25 # support size of control function\n",
    "    kappa_theta = 1 # support size of target parameter\n",
    "    sigma_eta = 5 # variance of error in secondary moment equation\n",
    "    lambda_coef = 1 # coeficient in front of the asymptotic rate for regularization lambda\n",
    "\n",
    "    l2_direct = []\n",
    "    l2_ortho = []\n",
    "    l2_cross_ortho = []\n",
    "    l1_direct = []\n",
    "    l1_ortho = []\n",
    "    l1_cross_ortho = []\n",
    "    for _ in range(5):\n",
    "        # Generate data\n",
    "        x, t, z, y, support_x, support_theta, alpha_x, beta_x, theta =\\\n",
    "                gen_data(n_samples, dim_x, dim_z, kappa_x, kappa_theta, sigma_eta)\n",
    "        print(np.sum(y>0))\n",
    "        true_coef = np.zeros((dim_z, 1))\n",
    "        true_coef[support_theta] = theta\n",
    "        #print(true_coef)\n",
    "        \n",
    "        t_true_coef = np.zeros((dim_x, 1))\n",
    "        t_true_coef[support_x] = beta_x\n",
    "        #print(t_true_coef)\n",
    "\n",
    "        # Direct lasso for all coefficients\n",
    "        model_y, model_t= direct_fit(x, t, z, y)\n",
    "        print(\"done\")\n",
    "        l1_direct.append(np.linalg.norm(model_y.coef_.flatten()[:z.shape[1]] - true_coef.flatten(), ord=1))\n",
    "        l2_direct.append(np.linalg.norm(model_y.coef_.flatten()[:z.shape[1]].flatten() - true_coef.flatten(), ord=2))\n",
    "        \n",
    "        print([\"{:.2}\".format(c) for c in model_y.coef_.flatten()[:z.shape[1]]])\n",
    "        print([\"{:.2}\".format(c) for c in model_t.coef_.flatten()])\n",
    "\n",
    "        # Orthogonal lasso estimation\n",
    "        ortho_coef = dml_fit(x, t, z, y)\n",
    "        l1_ortho.append(np.linalg.norm(ortho_coef - true_coef.flatten(), ord=1))\n",
    "        l2_ortho.append(np.linalg.norm(ortho_coef - true_coef.flatten(), ord=2))\n",
    "\n",
    "\n",
    "    plt.figure(figsize=(20, 5))\n",
    "    plt.subplot(1,2,1)\n",
    "    plt.violinplot([np.array(l2_direct) - np.array(l2_ortho)], showmedians=True)\n",
    "    plt.xticks([1], ['direct - ortho'])\n",
    "    plt.title('$\\ell_2$ error')\n",
    "    plt.subplot(1,2,2)\n",
    "    plt.violinplot([np.array(l1_direct) - np.array(l1_ortho)], showmedians=True)\n",
    "    plt.xticks([1], ['direct - ortho'])\n",
    "    plt.title('$\\ell_1$ error')\n",
    "    plt.show()\n",
    "    \n",
    "main()"
   ]
  }
 ],
 "metadata": {
  "kernelspec": {
   "display_name": "Python 3",
   "language": "python",
   "name": "python3"
  },
  "language_info": {
   "codemirror_mode": {
    "name": "ipython",
    "version": 3
   },
   "file_extension": ".py",
   "mimetype": "text/x-python",
   "name": "python",
   "nbconvert_exporter": "python",
   "pygments_lexer": "ipython3",
   "version": "3.6.4"
  }
 },
 "nbformat": 4,
 "nbformat_minor": 2
}
