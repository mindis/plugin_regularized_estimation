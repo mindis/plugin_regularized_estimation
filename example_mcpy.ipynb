{
 "cells": [
  {
   "cell_type": "code",
   "execution_count": 29,
   "metadata": {},
   "outputs": [],
   "source": [
    "import numpy as np\n",
    "\n",
    "def dgp(opts):\n",
    "    true_param = np.zeros(opts['n_dim'])\n",
    "    true_param[:opts['kappa']] = 1.0\n",
    "    x = np.random.normal(0, 1, size=(opts['n_samples'], opts['n_dim']))\n",
    "    y = np.matmul(x, true_param)\n",
    "    return (x, y), true_param\n",
    "\n",
    "def ols(data, opts):\n",
    "    x, y = data\n",
    "    from sklearn.linear_model import LinearRegression\n",
    "    return LinearRegression().fit(x, y).coef_\n",
    "\n",
    "def lasso(data, opts):\n",
    "    x, y = data\n",
    "    from sklearn.linear_model import Lasso\n",
    "    return Lasso(alpha=opts['l1_reg']).fit(x, y).coef_"
   ]
  },
  {
   "cell_type": "code",
   "execution_count": 35,
   "metadata": {},
   "outputs": [
    {
     "name": "stderr",
     "output_type": "stream",
     "text": [
      "[Parallel(n_jobs=-1)]: Done   6 out of  10 | elapsed:    0.6s remaining:    0.4s\n",
      "[Parallel(n_jobs=-1)]: Done  10 out of  10 | elapsed:    0.6s finished\n"
     ]
    }
   ],
   "source": [
    "from mcpy import metrics\n",
    "from mcpy import plotting\n",
    "from mcpy.monte_carlo import MonteCarlo\n",
    "\n",
    "CONFIG = {\n",
    "    'dgps': {'linear_dgp': dgp},\n",
    "    'dgp_opts': {'n_dim': 10, 'n_samples': 100, 'kappa': 2},\n",
    "    'methods': {'ols': ols, 'lasso': lasso},\n",
    "    'method_opts': {'l1_reg': 0.01},\n",
    "    'metrics': {'l1_error': metrics.l1_error, 'l2_error': metrics.l2_error},\n",
    "    'mc_opts': {'n_experiments': 10, 'seed': 123},\n",
    "    'proposed_method': 'lasso',\n",
    "    'target_dir': 'test_ols',\n",
    "    'reload_results': False,\n",
    "    'plots': {'all_metrics': {}, 'param_hist': plotting.plot_param_histograms}\n",
    "}\n",
    "\n",
    "estimates, metric_results = MonteCarlo(CONFIG).run()"
   ]
  },
  {
   "cell_type": "code",
   "execution_count": 43,
   "metadata": {},
   "outputs": [
    {
     "name": "stderr",
     "output_type": "stream",
     "text": [
      "[Parallel(n_jobs=-1)]: Done   6 out of  10 | elapsed:    0.6s remaining:    0.4s\n",
      "[Parallel(n_jobs=-1)]: Done  10 out of  10 | elapsed:    0.6s finished\n",
      "[Parallel(n_jobs=-1)]: Done   6 out of  10 | elapsed:    0.6s remaining:    0.4s\n",
      "[Parallel(n_jobs=-1)]: Done  10 out of  10 | elapsed:    0.6s finished\n",
      "[Parallel(n_jobs=-1)]: Done   6 out of  10 | elapsed:    0.6s remaining:    0.4s\n",
      "[Parallel(n_jobs=-1)]: Done  10 out of  10 | elapsed:    0.6s finished\n",
      "[Parallel(n_jobs=-1)]: Done   6 out of  10 | elapsed:    0.7s remaining:    0.4s\n",
      "[Parallel(n_jobs=-1)]: Done  10 out of  10 | elapsed:    0.7s finished\n",
      "[Parallel(n_jobs=-1)]: Done   6 out of  10 | elapsed:    0.6s remaining:    0.4s\n",
      "[Parallel(n_jobs=-1)]: Done  10 out of  10 | elapsed:    0.6s finished\n",
      "[Parallel(n_jobs=-1)]: Done   6 out of  10 | elapsed:    0.8s remaining:    0.5s\n",
      "[Parallel(n_jobs=-1)]: Done  10 out of  10 | elapsed:    0.8s finished\n",
      "[Parallel(n_jobs=-1)]: Done   6 out of  10 | elapsed:    0.7s remaining:    0.5s\n",
      "[Parallel(n_jobs=-1)]: Done  10 out of  10 | elapsed:    0.7s finished\n",
      "[Parallel(n_jobs=-1)]: Done   6 out of  10 | elapsed:    0.7s remaining:    0.4s\n",
      "[Parallel(n_jobs=-1)]: Done  10 out of  10 | elapsed:    0.7s finished\n",
      "[Parallel(n_jobs=-1)]: Done   6 out of  10 | elapsed:    0.7s remaining:    0.4s\n",
      "[Parallel(n_jobs=-1)]: Done  10 out of  10 | elapsed:    0.7s finished\n"
     ]
    }
   ],
   "source": [
    "from mcpy import metrics\n",
    "from mcpy import plotting\n",
    "from mcpy.monte_carlo import MonteCarloSweep\n",
    "\n",
    "SWEEP_CONFIG = {\n",
    "    'dgps': {'linear_dgp': dgp},\n",
    "    # We can now define dgp_opts as lists of values to sweep over\n",
    "    'dgp_opts': {'n_dim': [10, 100, 200], 'n_samples': [100, 200, 300], 'kappa': 2},\n",
    "    'methods': {'ols': ols, 'lasso': lasso},\n",
    "    'method_opts': {'l1_reg': 0.01},\n",
    "    'metrics': {'l1_error': metrics.l1_error, 'l2_error': metrics.l2_error},\n",
    "    'mc_opts': {'n_experiments': 10, 'seed': 123},\n",
    "    'proposed_method': 'lasso',\n",
    "    'target_dir': 'test_sweep_ols',\n",
    "    'reload_results': False,\n",
    "    # Let's not plot anything per instance\n",
    "    'plots': {},\n",
    "    # Let's make some plots across the sweep of parameters\n",
    "    'sweep_plots': {\n",
    "        # Let's plot the errors as a function of the dimensions, holding fixed the samples to 100\n",
    "        'var_dim_at_100_samples': {'varying_params': ['n_dim'], 'select_vals': {'n_samples': [100]}},\n",
    "        # Let's plot the errors as a function of n_samples, holding fixed the dimensions to 100\n",
    "        'var_samples_at_100_dim': {'varying_params': ['n_samples'], 'select_vals': {'n_dim': [100]}},\n",
    "        # Let's plot a 2d contour of the median metric of each method as two parameters vary simultaneously\n",
    "        'var_samples_and_dim': {'varying_params': [('n_samples', 'n_dim')]},\n",
    "        # Let's plot the difference between each method in a designated list with the 'proposed_method' in the config\n",
    "        'error_diff_var_samples_and_dim': {'varying_params': [('n_samples', 'n_dim')], 'methods': ['ols'], \n",
    "                                           'metric_transforms': {'diff': metrics.transform_diff}}\n",
    "    }\n",
    "}\n",
    "sweep_keys, sweep_estimates, sweep_metric_results = MonteCarloSweep(SWEEP_CONFIG).run()"
   ]
  },
  {
   "cell_type": "code",
   "execution_count": null,
   "metadata": {
    "collapsed": true
   },
   "outputs": [],
   "source": []
  }
 ],
 "metadata": {
  "kernelspec": {
   "display_name": "Python 3",
   "language": "python",
   "name": "python3"
  },
  "language_info": {
   "codemirror_mode": {
    "name": "ipython",
    "version": 3
   },
   "file_extension": ".py",
   "mimetype": "text/x-python",
   "name": "python",
   "nbconvert_exporter": "python",
   "pygments_lexer": "ipython3",
   "version": "3.6.1"
  }
 },
 "nbformat": 4,
 "nbformat_minor": 2
}
